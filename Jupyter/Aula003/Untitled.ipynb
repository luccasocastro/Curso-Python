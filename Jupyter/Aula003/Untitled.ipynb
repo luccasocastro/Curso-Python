{
 "cells": [
  {
   "cell_type": "markdown",
   "id": "15de5738",
   "metadata": {},
   "source": [
    "# Exercício 01\n",
    "Faça um programa em Python que leia um número inteiro, calcule o somatório de \n",
    "todos os números de 1 até esse número e após apresente o resultado na tela\n"
   ]
  },
  {
   "cell_type": "code",
   "execution_count": 4,
   "id": "15661ea6",
   "metadata": {},
   "outputs": [
    {
     "name": "stdout",
     "output_type": "stream",
     "text": [
      "Informe um número inteiro: 10\n",
      "A soma é 55!\n"
     ]
    }
   ],
   "source": [
    "num = int(input('Informe um número inteiro: '))\n",
    "soma = 0\n",
    "for i in range(0,num+1):\n",
    "    soma = soma + i\n",
    "\n",
    "print('A soma é {}!'.format(soma))\n"
   ]
  },
  {
   "cell_type": "markdown",
   "id": "c593f1c2",
   "metadata": {},
   "source": [
    "# Exercício 02\n",
    "Faça um programa que leia números inteiros até que um número negativo seja \n",
    "fornecido. Some todos os número fornecidos, menos o número negativo. Apresente a \n",
    "soma na tela"
   ]
  },
  {
   "cell_type": "code",
   "execution_count": 6,
   "id": "ea56cb37",
   "metadata": {},
   "outputs": [
    {
     "name": "stdout",
     "output_type": "stream",
     "text": [
      "Informe um número inteiro: 1\n",
      "Informe um número inteiro: 2\n",
      "Informe um número inteiro: 3\n",
      "Informe um número inteiro: 4\n",
      "Informe um número inteiro: 5\n",
      "Informe um número inteiro: 6\n",
      "Informe um número inteiro: 7\n",
      "Informe um número inteiro: 8\n",
      "Informe um número inteiro: 9\n",
      "Informe um número inteiro: 10\n",
      "Informe um número inteiro: -1\n",
      "A soma é 55\n"
     ]
    }
   ],
   "source": [
    "num = 0\n",
    "soma = 0\n",
    "while num >= 0:\n",
    "    num = int(input('Informe um número inteiro: '))\n",
    "    if num >=0:\n",
    "        soma = soma + num\n",
    "print(f'A soma é {soma}')"
   ]
  },
  {
   "cell_type": "markdown",
   "id": "65ff3a96",
   "metadata": {},
   "source": [
    "# Exercício 03\n",
    "Faça um programa que leia um número inteiro positivo qualquer. Após, divida esse número por 10 e sucessivamente o seu resultado por 10. Fazer isso, enquanto o valor da divisão for maior que zero. Conte quantas vezes foram feitas as divisões por 10 e apresente na tela."
   ]
  },
  {
   "cell_type": "code",
   "execution_count": null,
   "id": "64d79fc2",
   "metadata": {},
   "outputs": [
    {
     "name": "stdout",
     "output_type": "stream",
     "text": [
      "Informe um número inteiro positivo: 1000\n"
     ]
    }
   ],
   "source": [
    "cont = 0\n",
    "div = 0\n",
    "num = int(input('Informe um número inteiro positivo: '))\n",
    "while num >= 0:\n",
    "    div = num/10\n",
    "    num = div\n",
    "    cont = cont + 1\n",
    "print(f'O número foi dividido por 10 {cont} vezes')"
   ]
  },
  {
   "cell_type": "code",
   "execution_count": null,
   "id": "ecc40229",
   "metadata": {},
   "outputs": [],
   "source": []
  }
 ],
 "metadata": {
  "kernelspec": {
   "display_name": "Python 3",
   "language": "python",
   "name": "python3"
  },
  "language_info": {
   "codemirror_mode": {
    "name": "ipython",
    "version": 3
   },
   "file_extension": ".py",
   "mimetype": "text/x-python",
   "name": "python",
   "nbconvert_exporter": "python",
   "pygments_lexer": "ipython3",
   "version": "3.8.8"
  }
 },
 "nbformat": 4,
 "nbformat_minor": 5
}
