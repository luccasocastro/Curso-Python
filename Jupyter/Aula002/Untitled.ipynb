{
 "cells": [
  {
   "cell_type": "markdown",
   "id": "bb4f8f5f",
   "metadata": {},
   "source": [
    "# Exercício 01"
   ]
  },
  {
   "cell_type": "markdown",
   "id": "95ec9b76",
   "metadata": {},
   "source": [
    "Faça um programa em Python que leia o nome e o ano de nascimento de uma \n",
    "pessoa. Após, calcule sua idade e mostre na tela."
   ]
  },
  {
   "cell_type": "code",
   "execution_count": 8,
   "id": "68707468",
   "metadata": {},
   "outputs": [
    {
     "name": "stdout",
     "output_type": "stream",
     "text": [
      "Informe o seu nome: Luccas\n",
      "Informe seu ano de nascimento: 2002\n",
      "Luccas tem 19 anos de idade\n"
     ]
    }
   ],
   "source": [
    "from datetime import date as dt\n",
    "nome = str(input('Informe o seu nome: '))\n",
    "nasc = int(input('Informe seu ano de nascimento: '))\n",
    "ano = dt.today().year\n",
    "print(f'{nome} tem {ano-nasc} anos de idade')"
   ]
  },
  {
   "cell_type": "markdown",
   "id": "04e673b0",
   "metadata": {},
   "source": [
    "# Exercício 02\n",
    "\n",
    "Faça um programa em Python que leia o nome, o dia, mês e ano de nascimento de \n",
    "uma pessoa. Também leia o dia, mês e ano atual. Após, calcule sua idade e mostre \n",
    "na tela."
   ]
  },
  {
   "cell_type": "code",
   "execution_count": 9,
   "id": "95dbb345",
   "metadata": {},
   "outputs": [
    {
     "name": "stdout",
     "output_type": "stream",
     "text": [
      "Informe o seu nome: luccas\n",
      "Informe o dia em que você nasceu: 24\n",
      "Informe o mês que você nasceu: 05\n",
      "Informe o ano que você nasceu: 2002\n",
      "luccas tem 19 anos de idade\n"
     ]
    }
   ],
   "source": [
    "from datetime import datetime as dt\n",
    "\n",
    "nome = str(input('Informe o seu nome: '))\n",
    "dia_nasc = int(input('Informe o dia em que você nasceu: '))\n",
    "mes_nasc = int(input('Informe o mês que você nasceu: '))\n",
    "ano_nasc = int(input('Informe o ano que você nasceu: '))\n",
    "\n",
    "datahora = dt.now()\n",
    "ano_atual = datahora.year\n",
    "mes_atual = datahora.month\n",
    "dia_atual = datahora.day\n",
    "\n",
    "idade = ano_atual - ano_nasc\n",
    "\n",
    "if mes_atual < mes_nasc:\n",
    "    idade = idade - 1\n",
    "elif dia_atual < dia_nasc:\n",
    "    idade = idade - 1\n",
    "\n",
    "print(f'{nome} tem {idade} anos de idade')"
   ]
  },
  {
   "cell_type": "markdown",
   "id": "53a1736e",
   "metadata": {},
   "source": [
    "# Exercício 03\n",
    "\n",
    "Dado que a equação do segundo grau tem a forma ax2+bx+c=0, faça um programa \n",
    "em Python que leia os valores de a, b e c. Após, calcule as raízes da equação pelo \n",
    "método de báscara"
   ]
  },
  {
   "cell_type": "code",
   "execution_count": 16,
   "id": "cc931ae0",
   "metadata": {},
   "outputs": [
    {
     "name": "stdout",
     "output_type": "stream",
     "text": [
      "Informe o valor de a: 1\n",
      "Informe o valor de b: -2\n",
      "Informe o valor de c: -24\n",
      "x1: 6.00, x2: -4.00\n"
     ]
    }
   ],
   "source": [
    "a = float(input('Informe o valor de a: '))\n",
    "b = float(input('Informe o valor de b: '))\n",
    "c = float(input('Informe o valor de c: '))\n",
    "x1 = 0\n",
    "x2 = 0\n",
    "\n",
    "if a == 0:\n",
    "    print('Não é equação do segundo grau!')\n",
    "else:\n",
    "    delta = b**2-4*a*c\n",
    "    if delta < 0:\n",
    "        print('Não existem raízes reais!')\n",
    "    else:\n",
    "        x1 = (-b+delta**(1/2))/(2*a)\n",
    "        x2 = (-b-delta**(1/2))/(2*a)\n",
    "\n",
    "print(f'x1: {x1:.2f}, x2: {x2:.2f}')"
   ]
  },
  {
   "cell_type": "code",
   "execution_count": null,
   "id": "61ddcd34",
   "metadata": {},
   "outputs": [],
   "source": []
  }
 ],
 "metadata": {
  "kernelspec": {
   "display_name": "Python 3",
   "language": "python",
   "name": "python3"
  },
  "language_info": {
   "codemirror_mode": {
    "name": "ipython",
    "version": 3
   },
   "file_extension": ".py",
   "mimetype": "text/x-python",
   "name": "python",
   "nbconvert_exporter": "python",
   "pygments_lexer": "ipython3",
   "version": "3.8.8"
  }
 },
 "nbformat": 4,
 "nbformat_minor": 5
}
