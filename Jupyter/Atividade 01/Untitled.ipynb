{
 "cells": [
  {
   "cell_type": "markdown",
   "id": "a5e07a98",
   "metadata": {},
   "source": [
    "# Exercício 01\n",
    "Faça um programa que leia três números inteiros. Após, determine e escreva na tela qual o menor, \n",
    "o do meio e o maior."
   ]
  },
  {
   "cell_type": "code",
   "execution_count": 10,
   "id": "582a7d01",
   "metadata": {},
   "outputs": [
    {
     "name": "stdout",
     "output_type": "stream",
     "text": [
      "Digite um numero inteiro:4\n",
      "Digite um numero inteiro:8\n",
      "Digite um numero inteiro:2\n",
      "Lista: [4, 8, 2]\n",
      "Menor: 2\n",
      "Meio : 4\n",
      "Maior: 8\n"
     ]
    }
   ],
   "source": [
    "num = []\n",
    "for i in range(0,3):\n",
    "    n = int(input('Digite um numero inteiro:'))\n",
    "    num.append(n)\n",
    "    \n",
    "menor = num[0]\n",
    "for i in range(1,3):\n",
    "    if num[i] < menor:\n",
    "        menor = num[i]\n",
    "        \n",
    "maior = num[0]\n",
    "for i in range(1,3):\n",
    "    if num[i] > maior:\n",
    "        maior = num[i]\n",
    "\n",
    "for i in range(0,3):\n",
    "    if num[i] > menor and num[i] < maior:\n",
    "        meio = num[i]\n",
    "        \n",
    "print(f'Lista: {num}')\n",
    "print(f'Menor: {menor}')\n",
    "print(f'Meio : {meio}')\n",
    "print(f'Maior: {maior}')"
   ]
  },
  {
   "cell_type": "markdown",
   "id": "080d47ae",
   "metadata": {},
   "source": [
    "# Exercício 02\n",
    "Faça um programa que leia um número qualquer. Após divida-o por 10 várias vezes, até que o resultado da divisão seja considerado 0 pelo computador. No processo, conte quantas vezes essa divisão foi realizada e apresente esse valor na tela."
   ]
  },
  {
   "cell_type": "code",
   "execution_count": 21,
   "id": "8790b973",
   "metadata": {},
   "outputs": [
    {
     "name": "stdout",
     "output_type": "stream",
     "text": [
      "Digite um numero:10\n",
      "10 foi dividido por 10 325 vezes\n"
     ]
    }
   ],
   "source": [
    "num = int(input('Digite um numero:'))\n",
    "div = num/10\n",
    "cont = 1\n",
    "\n",
    "while div > 0:\n",
    "    div = div/10\n",
    "    cont = cont+1\n",
    "\n",
    "print(f'{num} foi dividido por 10 {cont} vezes')"
   ]
  },
  {
   "cell_type": "markdown",
   "id": "bd7fa273",
   "metadata": {},
   "source": [
    "# Exercício 03\n",
    "Faça um programa em Python que inicialize dois vetores com 10 valores inteiros entre 1 e 100. Após, calcule um terceiro vetor formado pela soma dos dois vetores iniciais."
   ]
  },
  {
   "cell_type": "code",
   "execution_count": 13,
   "id": "b9c57932",
   "metadata": {},
   "outputs": [
    {
     "name": "stdout",
     "output_type": "stream",
     "text": [
      "lista1: [99, 31, 13, 85, 73, 80, 36, 99, 75, 51]\n",
      "lista2: [88, 4, 12, 54, 47, 41, 64, 25, 42, 62]\n",
      "lista3: [187, 35, 25, 139, 120, 121, 100, 124, 117, 113]\n"
     ]
    }
   ],
   "source": [
    "import random as r\n",
    "v1 = []\n",
    "for i in range(0,10):\n",
    "    v1.append(r.randrange(1,100))\n",
    "print(f'lista1: {v1}')\n",
    "v2 = []\n",
    "for i in range(0,10):\n",
    "    v2.append(r.randrange(1,100))\n",
    "print(f'lista2: {v2}')\n",
    "v3 = []\n",
    "for i in range(0,10):\n",
    "    v3.append(v1[i] + v2[i])\n",
    "print(f'lista3: {v3}')"
   ]
  },
  {
   "cell_type": "markdown",
   "id": "b87869ec",
   "metadata": {},
   "source": [
    "# Exercício 04\n",
    "Faça um programa que leia e valide as seguintes informações:\n",
    "a. Nome: maior que 3 caracteres;\n",
    "b. Idade: entre 0 e 150;\n",
    "c. Salário: maior que zero;\n",
    "d. Sexo: 'f' ou 'm';\n",
    "e. Estado Civil: 's', 'c', 'v', 'd';"
   ]
  },
  {
   "cell_type": "code",
   "execution_count": 28,
   "id": "d3a53ded",
   "metadata": {},
   "outputs": [
    {
     "name": "stdout",
     "output_type": "stream",
     "text": [
      "Informe seu nome:luccas\n",
      "Informe sua idade:19\n",
      "Informe o seu salário:1900\n",
      "Informe o seu sexo:m\n",
      "Informe o seu estado civil:s\n"
     ]
    }
   ],
   "source": [
    "info = str(input('Informe seu nome:'))\n",
    "nome = None\n",
    "idade = None\n",
    "salario = None\n",
    "sexo = None\n",
    "estado_civil = None\n",
    "\n",
    "if len(info) > 3:\n",
    "    nome = info\n",
    "else:\n",
    "    print('Nome inválido')\n",
    "\n",
    "info = int(input('Informe sua idade:'))\n",
    "if info > 0 and info < 150:\n",
    "    idade = info\n",
    "else:\n",
    "    print('Idade inválida')\n",
    "\n",
    "info = float(input('Informe o seu salário:'))\n",
    "if info > 0:\n",
    "    salario = info\n",
    "else:\n",
    "    print('Salário inválido')\n",
    "\n",
    "info = str(input('Informe o seu sexo:'))\n",
    "if info == 'm' or info == 'f':\n",
    "    sexo = info\n",
    "else:\n",
    "    print('Sexo inválido')\n",
    "\n",
    "estados = ['s','c','v','d']\n",
    "info = str(input('Informe o seu estado civil:'))\n",
    "if info in estados:\n",
    "    estado_civil = info\n",
    "else:\n",
    "    print('Estado civil inválido')"
   ]
  },
  {
   "cell_type": "markdown",
   "id": "fbf113b3",
   "metadata": {},
   "source": [
    "# Exercício 05\n",
    "Supondo que a população de um país A seja da ordem de 80000 habitantes com uma taxa anual de crescimento de 3% e que a população de B seja 200000 habitantes com uma taxa de crescimento de 1.5%. Faça um programa que calcule e escreva o número de anos necessários para que a população do país A ultrapasse ou iguale a população do país B, mantidas as taxas de crescimento."
   ]
  },
  {
   "cell_type": "code",
   "execution_count": 6,
   "id": "d57db703",
   "metadata": {},
   "outputs": [
    {
     "name": "stdout",
     "output_type": "stream",
     "text": [
      "Foram necessários 2 anos para que A ultrapassasse ou igualasse B\n"
     ]
    }
   ],
   "source": [
    "pop_a = 80.000\n",
    "taxa_a = 0.03\n",
    "pop_b = 200.000\n",
    "taxa_b = 0.015\n",
    "cont = 0\n",
    "while pop_a <= pop_b:\n",
    "    pop_a = pop_a * taxa_a\n",
    "    pop_b = pop_b * taxa_b\n",
    "    cont = cont + 1\n",
    "print(f'Foram necessários {cont} anos para que A ultrapassasse ou igualasse B')"
   ]
  },
  {
   "cell_type": "markdown",
   "id": "c1df7bf4",
   "metadata": {},
   "source": [
    "# Exercício 06\n",
    "Faça um programa que peça um número inteiro e determine se ele é ou não um número primo. \n",
    "Um número primo é aquele que é divisível somente por ele mesmo e por 1."
   ]
  },
  {
   "cell_type": "code",
   "execution_count": 8,
   "id": "12875d1b",
   "metadata": {},
   "outputs": [
    {
     "name": "stdout",
     "output_type": "stream",
     "text": [
      "Informe um número inteiro:6\n",
      "6 não é primo!\n"
     ]
    }
   ],
   "source": [
    "num = int(input('Informe um número inteiro:'))\n",
    "cont = 0\n",
    "for i in range(1, num+1):\n",
    "    if num%i == 0:\n",
    "        cont = cont + 1\n",
    "\n",
    "if cont == 2:\n",
    "    print(f'{num} é primo!')\n",
    "else:\n",
    "    print(f'{num} não é primo!')"
   ]
  },
  {
   "cell_type": "markdown",
   "id": "3b593f0a",
   "metadata": {},
   "source": [
    "# Exercício 07\n",
    "Faça um programa que leia um número inteiro positivo e que calcule o valor do fatorial desse \n",
    "número, fazendo uso de uma função. O programa, só deve aceitar a leitura de um número inteiro \n",
    "positivo, ou seja, enquanto não for informado um número inteiro positivo, deve-se continuar a \n",
    "leitura do mesmo.\n"
   ]
  },
  {
   "cell_type": "code",
   "execution_count": 11,
   "id": "2b9014c3",
   "metadata": {},
   "outputs": [
    {
     "name": "stdout",
     "output_type": "stream",
     "text": [
      "Informe um numero inteiro:5\n",
      "Fat de 5 é 120\n"
     ]
    }
   ],
   "source": [
    "num = int(input('Informe um numero inteiro:'))\n",
    "while num < 0:\n",
    "    num = int(input('Informe um numero inteiro:'))\n",
    "\n",
    "fat = 1\n",
    "for i in range(1,num+1):\n",
    "    fat *= i\n",
    "\n",
    "print(f'Fat de {num} é {fat}')"
   ]
  },
  {
   "cell_type": "markdown",
   "id": "3950232b",
   "metadata": {},
   "source": [
    "# Exercício 08\n",
    "Uma empresa de pesquisas precisa tabular os resultados da seguinte enquete feita a um grande \n",
    "quantidade de organizações:\n",
    "\"Qual o melhor Sistema Operacional para uso em servidores?\"\n",
    "As possíveis respostas são:\n",
    "1- Windows Server\n",
    "2- Unix\n",
    "3- Linux\n",
    "4- Netware\n",
    "5- Mac OS\n",
    "6- Outro\n",
    "Você foi contratado para desenvolver um programa que leia o resultado da enquete e informe ao \n",
    "final o resultado da mesma. O programa deverá ler os valores até ser informado o valor 0, que \n",
    "encerra a entrada dos dados. Não deverão ser aceitos valores além dos válidos para o programa \n",
    "(0 a 6). Os valores referentes a cada uma das opções devem ser armazenados num vetor. Após os \n",
    "dados terem sido completamente informados, o programa deverá calcular a percentual de cada \n",
    "um dos concorrentes e informar o vencedor da enquete. O formato da saída foi dado pela empresa, \n",
    "e é o seguinte:\n",
    "Sistema Operacional Votos %\n",
    "------------------- ----- ---\n",
    "Windows Server 1500 17%\n",
    "Unix 3500 40%\n",
    "Linux 3000 34%\n",
    "Netware 500 5%\n",
    "Mac OS 150 2%\n",
    "Outro 150 2%\n",
    "------------------- -----\n",
    "Total 8800\n",
    "O Sistema Operacional mais votado foi o Unix, com 3500 votos, correspondendo a 40% dos \n",
    "votos."
   ]
  },
  {
   "cell_type": "code",
   "execution_count": 4,
   "id": "e0e94e01",
   "metadata": {},
   "outputs": [
    {
     "name": "stdout",
     "output_type": "stream",
     "text": [
      "Informe a qntd de votos:\n",
      "=-=-=-=-=-=-=-=-=-=-=-=-=\n",
      "Windows:1500\n",
      "Unix:200\n",
      "Linux:2000\n",
      "Netware:15\n",
      "Mac OS:1499\n",
      "Outro:84\n",
      "Total= 5298.0\n",
      "O sistema com mais votos foi Linux com 2000.0 votos, equivalentes a 37.8% dos votos\n"
     ]
    }
   ],
   "source": [
    "so = ['Windows','Unix','Linux','Netware','Mac OS','Outro']\n",
    "votos = []\n",
    "total = 0\n",
    "mais_votos = 0\n",
    "mais_votado = ''\n",
    "\n",
    "print('Informe a qntd de votos:')\n",
    "print('=-=-=-=-=-=-=-=-=-=-=-=-=')\n",
    "for i in range(0,6):\n",
    "    votos.append(float(input(f'{so[i]}:')))\n",
    "\n",
    "for i in range(0,6):\n",
    "    total += votos[i]\n",
    "    if votos[i] > mais_votos:\n",
    "        mais_votos = votos[i]\n",
    "        mais_votado = so[i]\n",
    "\n",
    "porc = (mais_votos * 100)/total\n",
    "\n",
    "print('Total=',total)\n",
    "print(f'O sistema com mais votos foi {mais_votado} com {mais_votos} votos, equivalentes a {porc:.1f}% dos votos')"
   ]
  },
  {
   "cell_type": "code",
   "execution_count": null,
   "id": "32b7c0e6",
   "metadata": {},
   "outputs": [],
   "source": []
  }
 ],
 "metadata": {
  "kernelspec": {
   "display_name": "Python 3",
   "language": "python",
   "name": "python3"
  },
  "language_info": {
   "codemirror_mode": {
    "name": "ipython",
    "version": 3
   },
   "file_extension": ".py",
   "mimetype": "text/x-python",
   "name": "python",
   "nbconvert_exporter": "python",
   "pygments_lexer": "ipython3",
   "version": "3.8.8"
  }
 },
 "nbformat": 4,
 "nbformat_minor": 5
}
