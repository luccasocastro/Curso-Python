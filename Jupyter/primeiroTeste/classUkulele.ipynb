{
 "cells": [
  {
   "cell_type": "code",
   "execution_count": 1,
   "id": "d0c46bf8",
   "metadata": {},
   "outputs": [],
   "source": [
    "def calcula(num1, num2) -> int:\n",
    "    return num1 + num2"
   ]
  },
  {
   "cell_type": "code",
   "execution_count": 3,
   "id": "9c798278",
   "metadata": {},
   "outputs": [
    {
     "name": "stdout",
     "output_type": "stream",
     "text": [
      "Informe o primeiro número: 5\n",
      "Informe o segundo número: 4\n",
      "Resultado: 9\n"
     ]
    }
   ],
   "source": [
    "n1 = int(input('Informe o primeiro número: '))\n",
    "n2 = int(input('Informe o segundo número: '))\n",
    "print(f'Resultado: {calcula(n1,n2)}')"
   ]
  },
  {
   "cell_type": "code",
   "execution_count": 4,
   "id": "5bd260a3",
   "metadata": {},
   "outputs": [],
   "source": [
    "class Ukulele:\n",
    "    def __init__(self, cor: str, tipo: str, novo: bool) -> None:\n",
    "        self.cor = cor\n",
    "        self.tipo = tipo\n",
    "        self.novo = novo\n",
    "    \n",
    "    def tocar(self, musica: str) -> None:\n",
    "        if musica == 'Somewhere':\n",
    "            print('Uuuuuuuu... UUuuuu... Huuuuuu')\n",
    "            print('Bleim bleim bleim')\n",
    "        elif musica == 'Bob':\n",
    "            print('I wanna love you... And treat you right...')\n",
    "        else:\n",
    "            print('Bleim bleim bleim')\n",
    "    \n",
    "    def afinar(self) -> None:\n",
    "        if self.tipo == 'Soprano':\n",
    "            print('As cordas são menores')\n",
    "        elif self.tipo == 'Tenor':\n",
    "            print('Cordas normais')\n",
    "        else:\n",
    "            print('Cordas grandes')"
   ]
  },
  {
   "cell_type": "code",
   "execution_count": 5,
   "id": "3f8252f5",
   "metadata": {},
   "outputs": [],
   "source": [
    "uke = Ukulele('Mogno', 'Tenor', True)"
   ]
  },
  {
   "cell_type": "code",
   "execution_count": 6,
   "id": "33411271",
   "metadata": {},
   "outputs": [
    {
     "name": "stdout",
     "output_type": "stream",
     "text": [
      "Uuuuuuuu... UUuuuu... Huuuuuu\n",
      "Bleim bleim bleim\n"
     ]
    }
   ],
   "source": [
    "uke.tocar('Somewhere')"
   ]
  },
  {
   "cell_type": "code",
   "execution_count": 7,
   "id": "892cd134",
   "metadata": {},
   "outputs": [
    {
     "name": "stdout",
     "output_type": "stream",
     "text": [
      "Cordas normais\n"
     ]
    }
   ],
   "source": [
    "uke.afinar()"
   ]
  },
  {
   "cell_type": "code",
   "execution_count": null,
   "id": "7ad190a9",
   "metadata": {},
   "outputs": [],
   "source": []
  }
 ],
 "metadata": {
  "kernelspec": {
   "display_name": "Python 3",
   "language": "python",
   "name": "python3"
  },
  "language_info": {
   "codemirror_mode": {
    "name": "ipython",
    "version": 3
   },
   "file_extension": ".py",
   "mimetype": "text/x-python",
   "name": "python",
   "nbconvert_exporter": "python",
   "pygments_lexer": "ipython3",
   "version": "3.8.8"
  }
 },
 "nbformat": 4,
 "nbformat_minor": 5
}
