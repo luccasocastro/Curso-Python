{
 "cells": [
  {
   "cell_type": "markdown",
   "id": "ae9b9b77",
   "metadata": {},
   "source": [
    "# Exercício 01\n",
    "Faça um programa em Python que leia 10 números reais referentes a temperaturas e armazene-as em uma lista. Após, faça: a. Calcule a média das temperaturas armazenadas na lista b. Leia uma nova temperatura e verifique se a mesma está armazenada na lista (apresente uma mensagem na tela confirmando ou negando isso) c. Ordene de forma crescente o conteúdo da lista e apresente na tela d. Escreva na tela a menor e a maior temperatura da lista e. Remova a menor e a maior temperatura da lista"
   ]
  },
  {
   "cell_type": "code",
   "execution_count": 3,
   "id": "c0f1ce63",
   "metadata": {},
   "outputs": [
    {
     "name": "stdout",
     "output_type": "stream",
     "text": [
      "Informe a temperatura 1: 45\n",
      "Informe a temperatura 2: 46\n",
      "Informe a temperatura 3: 85\n",
      "Informe a temperatura 4: 74\n",
      "Informe a temperatura 5: 18\n",
      "Informe a temperatura 6: 24\n",
      "Informe a temperatura 7: 26\n",
      "Informe a temperatura 8: 59\n",
      "Informe a temperatura 9: 50\n",
      "Informe a temperatura 10: 23\n",
      "[45.0, 46.0, 85.0, 74.0, 18.0, 24.0, 26.0, 59.0, 50.0, 23.0]\n"
     ]
    }
   ],
   "source": [
    "temps = []\n",
    "for i in range(10):\n",
    "    temp = float(input(f'Informe a temperatura {i}: '))\n",
    "    temps.append(temp)\n",
    "print(temps)"
   ]
  },
  {
   "cell_type": "markdown",
   "id": "0959e57f",
   "metadata": {},
   "source": [
    "A)"
   ]
  },
  {
   "cell_type": "code",
   "execution_count": 23,
   "id": "244c64ee",
   "metadata": {},
   "outputs": [
    {
     "name": "stdout",
     "output_type": "stream",
     "text": [
      "Média: 31.40\n"
     ]
    }
   ],
   "source": [
    "cont = 0\n",
    "for i in temps:\n",
    "    cont = cont + i\n",
    "media = cont/10\n",
    "print(f'Média: {media:.2f}')"
   ]
  },
  {
   "cell_type": "markdown",
   "id": "6eb560b7",
   "metadata": {},
   "source": [
    "B)"
   ]
  },
  {
   "cell_type": "code",
   "execution_count": 7,
   "id": "861abc25",
   "metadata": {},
   "outputs": [
    {
     "name": "stdout",
     "output_type": "stream",
     "text": [
      "Informe uma nova temperatura: 90\n",
      "90.00 não está na lista de temperaturas!\n"
     ]
    }
   ],
   "source": [
    "new_temp = float(input('Informe uma nova temperatura: '))\n",
    "if new_temp in temps:\n",
    "    print(f'{new_temp:.2f} está na lista de temperaturas!')\n",
    "else:\n",
    "    print(f'{new_temp:.2f} não está na lista de temperaturas!')"
   ]
  },
  {
   "cell_type": "markdown",
   "id": "4b832a55",
   "metadata": {},
   "source": [
    "C)"
   ]
  },
  {
   "cell_type": "code",
   "execution_count": 22,
   "id": "405e4758",
   "metadata": {},
   "outputs": [
    {
     "name": "stdout",
     "output_type": "stream",
     "text": [
      "Lista ordenada:  [46.0, 50.0, 59.0, 74.0, 85.0]\n"
     ]
    }
   ],
   "source": [
    "temps.sort()\n",
    "print('Lista ordenada: ', temps)"
   ]
  },
  {
   "cell_type": "markdown",
   "id": "3919242f",
   "metadata": {},
   "source": [
    "D)"
   ]
  },
  {
   "cell_type": "code",
   "execution_count": 21,
   "id": "5f5c210f",
   "metadata": {},
   "outputs": [
    {
     "name": "stdout",
     "output_type": "stream",
     "text": [
      "[46.0, 50.0, 59.0, 74.0, 85.0]\n"
     ]
    }
   ],
   "source": [
    "print(temps)"
   ]
  },
  {
   "cell_type": "markdown",
   "id": "accaf829",
   "metadata": {},
   "source": [
    "E)"
   ]
  },
  {
   "cell_type": "code",
   "execution_count": 16,
   "id": "4c9006da",
   "metadata": {},
   "outputs": [
    {
     "name": "stdout",
     "output_type": "stream",
     "text": [
      "[46.0, 50.0, 59.0, 74.0, 85.0]\n"
     ]
    }
   ],
   "source": [
    "print(temps)"
   ]
  },
  {
   "cell_type": "code",
   "execution_count": null,
   "id": "d6da4271",
   "metadata": {},
   "outputs": [],
   "source": []
  }
 ],
 "metadata": {
  "kernelspec": {
   "display_name": "Python 3",
   "language": "python",
   "name": "python3"
  },
  "language_info": {
   "codemirror_mode": {
    "name": "ipython",
    "version": 3
   },
   "file_extension": ".py",
   "mimetype": "text/x-python",
   "name": "python",
   "nbconvert_exporter": "python",
   "pygments_lexer": "ipython3",
   "version": "3.8.8"
  }
 },
 "nbformat": 4,
 "nbformat_minor": 5
}
