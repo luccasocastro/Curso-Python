{
 "cells": [
  {
   "cell_type": "markdown",
   "id": "34251c3c",
   "metadata": {},
   "source": [
    "# Exercício 1"
   ]
  },
  {
   "cell_type": "markdown",
   "id": "9857d343",
   "metadata": {},
   "source": [
    "Faça um programa que leia dois números inteiros.\n",
    "Após, calcule a soma, subtração, multiplicação, divisão\n",
    "e exponenciação (potencia) do primeiro pelo segundo e \n",
    "mostre os resultados desses cálculos na tela"
   ]
  },
  {
   "cell_type": "code",
   "execution_count": 3,
   "id": "bf35e6e1",
   "metadata": {},
   "outputs": [
    {
     "name": "stdout",
     "output_type": "stream",
     "text": [
      "Primeiro número: 2\n",
      "Segundo número: 5\n",
      "Soma: 7\n",
      "Subtração: -3\n",
      "Multiplicação: 10\n",
      "Divisão: 0.4\n",
      "Potência: 32\n"
     ]
    }
   ],
   "source": [
    "n1 = int(input('Primeiro número: '))\n",
    "n2 = int(input('Segundo número: '))\n",
    "soma = n1+n2\n",
    "subtracao = n1-n2\n",
    "mult = n1*n2\n",
    "divi = n1/n2\n",
    "pot = n1**n2\n",
    "print(f'Soma: {soma}\\nSubtração: {subtracao}\\nMultiplicação: {mult}\\nDivisão: {divi}\\nPotência: {pot}')"
   ]
  },
  {
   "cell_type": "markdown",
   "id": "66a7a244",
   "metadata": {},
   "source": [
    "# Exercício 2"
   ]
  },
  {
   "cell_type": "markdown",
   "id": "a6c3f922",
   "metadata": {},
   "source": [
    "Faça um programa que leia a largura e altura de uma parede\n",
    "em metros quadrados. Leia também o quanto se gasta de tinta\n",
    "em litro para pintar 1 metro quadrado e a quantidade de \n",
    "tinta em litros por lata.\n",
    "Ao final, calcule e apresente na tela a quantidade de latas\n",
    "de tinta necessárias para pintar a parede."
   ]
  },
  {
   "cell_type": "code",
   "execution_count": 12,
   "id": "eff42a61",
   "metadata": {},
   "outputs": [
    {
     "name": "stdout",
     "output_type": "stream",
     "text": [
      "Informe a largura: 5\n",
      "Informe a altura: 3\n",
      "Informe a qntd de tinta por m²: 2\n",
      "Informe qnts litros há em uma lata de tinta: 5\n",
      "Área da parede: 5x3m²\n",
      "Qntd de latas necessárias: 6.0\n"
     ]
    }
   ],
   "source": [
    "larg = int(input('Informe a largura: '))\n",
    "alt = int(input('Informe a altura: '))\n",
    "qntd = int(input('Informe a qntd de tinta por m²: '))\n",
    "lata = int(input('Informe qnts litros há em uma lata de tinta: '))\n",
    "a = larg*alt\n",
    "total_tinta_parede = a*qntd\n",
    "qntd_latas = total_tinta_parede/lata\n",
    "print(f'Área da parede: {larg}x{alt}m²')\n",
    "print(f'Qntd de latas necessárias: {qntd_latas}')"
   ]
  },
  {
   "cell_type": "markdown",
   "id": "a02c1c2f",
   "metadata": {},
   "source": [
    "# Exercício 3"
   ]
  },
  {
   "cell_type": "markdown",
   "id": "d7ffe7ea",
   "metadata": {},
   "source": [
    "Faça um programa que leia o nome de um produto e o seu valor\n",
    "em dólares. Após, leia quanto vale 1 dólar em reais. Ao final,\n",
    "calcule e apresente na tela o valor do produto em reais."
   ]
  },
  {
   "cell_type": "code",
   "execution_count": 13,
   "id": "2da27b5d",
   "metadata": {},
   "outputs": [
    {
     "name": "stdout",
     "output_type": "stream",
     "text": [
      "Informe o valor em dólares: 399.99\n",
      "Informe o valor em real do dólar: 5.26\n",
      "Valor em reais do produto: 2103.95\n"
     ]
    }
   ],
   "source": [
    "valor = float(input('Informe o valor em dólares: '))\n",
    "dolar = float(input('Informe o valor em real do dólar: '))\n",
    "valor_final = valor * dolar\n",
    "print(f'Valor em reais do produto: {valor_final:.2f}')"
   ]
  },
  {
   "cell_type": "code",
   "execution_count": null,
   "id": "ac6f1c79",
   "metadata": {},
   "outputs": [],
   "source": []
  }
 ],
 "metadata": {
  "kernelspec": {
   "display_name": "Python 3",
   "language": "python",
   "name": "python3"
  },
  "language_info": {
   "codemirror_mode": {
    "name": "ipython",
    "version": 3
   },
   "file_extension": ".py",
   "mimetype": "text/x-python",
   "name": "python",
   "nbconvert_exporter": "python",
   "pygments_lexer": "ipython3",
   "version": "3.8.8"
  }
 },
 "nbformat": 4,
 "nbformat_minor": 5
}
