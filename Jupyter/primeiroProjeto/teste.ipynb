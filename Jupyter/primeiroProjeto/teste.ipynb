{
 "cells": [
  {
   "cell_type": "markdown",
   "metadata": {},
   "source": [
    "Utilizando o código apresentado em aula,\n",
    "fazer um menu de opções que tenha 1-Incluir,\n",
    "2-Consultar Todos, 3-Consultar por nome do produto, \n",
    "4-Alterar (name e quantity), 5-Excluir, 6-Sair"
   ]
  },
  {
   "cell_type": "code",
   "execution_count": 1,
   "metadata": {},
   "outputs": [],
   "source": [
    "from IPython.display import clear_output\n",
    "\n",
    "# biblioteca para conexão do Python com o PostgreSQL\n",
    "#import psycopg2"
   ]
  },
  {
   "cell_type": "code",
   "execution_count": 2,
   "metadata": {},
   "outputs": [],
   "source": [
    "def conectarcombanco():\n",
    "    # biblioteca para conexão do Python com o PostgreSQL\n",
    "    import psycopg2\n",
    "    \n",
    "    # Informação da string de conexão \n",
    "    host = \"127.0.0.1\" # nome ou ip da máquina que tem o SGBD\n",
    "    dbname = \"company\" # nome do banco de dados\n",
    "    user = \"postgres\"  # nome do usuario\n",
    "    password = \"1234\"  # senha\n",
    "\n",
    "    # Construa a string de conexão\n",
    "    conn_string = \"host={0} user={1} dbname={2} password={3}\".format(host, user, dbname, password)\n",
    "\n",
    "    print(\"tentando conectar\")\n",
    "    \n",
    "    # Executa a conexão com o banco\n",
    "    conn = psycopg2.connect(conn_string) \n",
    "    print(\"Connection established\")\n",
    "\n",
    "    # Ponteiro para trabalhar com o banco de dados especificado\n",
    "    cursor = conn.cursor()\n",
    "    \n",
    "    return conn, cursor"
   ]
  },
  {
   "cell_type": "code",
   "execution_count": 3,
   "metadata": {},
   "outputs": [],
   "source": [
    "def desconectarcombanco(conn, cursor):\n",
    "    # Fecha a conexão com o banco\n",
    "    cursor.close()\n",
    "    conn.close()\n",
    "    print(\"Connection closed\")"
   ]
  },
  {
   "cell_type": "code",
   "execution_count": 4,
   "metadata": {},
   "outputs": [],
   "source": [
    "def incluir(conn, cursor):\n",
    "    nome=input(\"Digite o nome do produto\")\n",
    "    quant=input(\"Digite a quantidade do produto\")\n",
    "    \n",
    "    # Insere alguns dados na tabela\n",
    "    cursor.execute(\"INSERT INTO inventory (name, quantity) VALUES (%s, %s);\", (nome, quant))\n",
    "\n",
    "    # Confirma a gravação dos dados\n",
    "    conn.commit()\n",
    "    \n",
    "    input(\"Dados Inseridos com Sucesso - Tecle <Enter> para Continuar\")"
   ]
  },
  {
   "cell_type": "code",
   "execution_count": 5,
   "metadata": {},
   "outputs": [],
   "source": [
    "def consultartodos(conn, cursor):\n",
    "    # Recupera todas as linhas da tabela inventory\n",
    "    cursor.execute(\"SELECT * FROM inventory;\")\n",
    "\n",
    "    # Recupera todas as linhas de dados do cursor\n",
    "    rows = cursor.fetchall()\n",
    "\n",
    "    # Imprime todas as linhas\n",
    "    for row in rows:\n",
    "        print(\"Data row = (%s, %s, %s)\" %(str(row[0]), str(row[1]), str(row[2])))\n",
    "        \n",
    "    input(\"Tecle <Enter> para Continuar\")"
   ]
  },
  {
   "cell_type": "code",
   "execution_count": 6,
   "metadata": {},
   "outputs": [],
   "source": [
    "def consultarpornome(conn, cursor):\n",
    "    nome=input(\"Digite o nome do produto a pesquisar:\")\n",
    "\n",
    "    # Recupera todas as linhas da tabela inventory\n",
    "    cursor.execute(\"SELECT * FROM inventory WHERE name = '{}';\".format(nome))\n",
    "\n",
    "    # Recupera todas as linhas de dados do cursor\n",
    "    rows = cursor.fetchall()\n",
    "\n",
    "    # Imprime todas as linhas\n",
    "    for row in rows:\n",
    "        print(\"Data row = (%s, %s, %s)\" %(str(row[0]), str(row[1]), str(row[2])))\n",
    "        \n",
    "    input(\"Tecle <Enter> para Continuar\")"
   ]
  },
  {
   "cell_type": "code",
   "execution_count": 7,
   "metadata": {},
   "outputs": [],
   "source": [
    "def alterar(conn, cursor):\n",
    "    \n",
    "    nome=input(\"Digite o nome do produto\")\n",
    "    quant=input(\"Digite a quantidade do produto\")\n",
    "    \n",
    "    # Atualizar uma linha de dados na tabela\n",
    "    cursor.execute(\"UPDATE inventory SET quantity = %s WHERE name = %s;\", (quant, nome))\n",
    "    print(\"Updated 1 row of data\")\n",
    "\n",
    "    # Confirma a gravação dos dados\n",
    "    conn.commit()\n",
    "    \n",
    "    input(\"Tecle <Enter> para Continuar\")"
   ]
  },
  {
   "cell_type": "code",
   "execution_count": 8,
   "metadata": {},
   "outputs": [],
   "source": [
    "def excluir(conn, cursor):\n",
    "    nome=input(\"Digite o nome do produto a apagar:\")\n",
    "    \n",
    "    # Apaga a linha de dados da tabela\n",
    "    cursor.execute(\"DELETE FROM inventory WHERE name = %s;\", (nome,))\n",
    "    print(\"Deleted 1 row of data\")\n",
    "\n",
    "    # Confirma a gravação dos dados\n",
    "    conn.commit()\n",
    "    \n",
    "    input(\"Tecle <Enter> para Continuar\")"
   ]
  },
  {
   "cell_type": "code",
   "execution_count": 10,
   "metadata": {},
   "outputs": [
    {
     "name": "stdout",
     "output_type": "stream",
     "text": [
      "Menu de Opções\n",
      "1-Incluir\n",
      "2-Consultar Todos\n",
      "3-Consultar pelo Nome\n",
      "4-Alterar\n",
      "5-Excluir\n",
      "6-Sair\n",
      "Digite a opção desejada==>6\n",
      "Connection closed\n"
     ]
    }
   ],
   "source": [
    "conn, cursor = conectarcombanco()\n",
    "\n",
    "opcao=\"0\"\n",
    "while opcao!=\"6\":\n",
    "    clear_output()\n",
    "    print(\"Menu de Opções\")\n",
    "    print(\"1-Incluir\")\n",
    "    print(\"2-Consultar Todos\")\n",
    "    print(\"3-Consultar pelo Nome\")\n",
    "    print(\"4-Alterar\")\n",
    "    print(\"5-Excluir\")\n",
    "    print(\"6-Sair\")\n",
    "    opcao=input(\"Digite a opção desejada==>\")\n",
    "    if opcao==\"1\":\n",
    "        incluir(conn, cursor)\n",
    "    if opcao==\"2\":\n",
    "        consultartodos(conn, cursor)\n",
    "    if opcao==\"3\":\n",
    "        consultarpornome(conn, cursor)\n",
    "    if opcao==\"4\":\n",
    "        alterar(conn, cursor)\n",
    "    if opcao==\"5\":\n",
    "        excluir(conn, cursor)\n",
    "        \n",
    "desconectarcombanco(conn, cursor)"
   ]
  },
  {
   "cell_type": "code",
   "execution_count": null,
   "metadata": {},
   "outputs": [],
   "source": []
  }
 ],
 "metadata": {
  "kernelspec": {
   "display_name": "Python 3",
   "language": "python",
   "name": "python3"
  },
  "language_info": {
   "codemirror_mode": {
    "name": "ipython",
    "version": 3
   },
   "file_extension": ".py",
   "mimetype": "text/x-python",
   "name": "python",
   "nbconvert_exporter": "python",
   "pygments_lexer": "ipython3",
   "version": "3.8.8"
  }
 },
 "nbformat": 4,
 "nbformat_minor": 4
}
